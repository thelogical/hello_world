{
  "nbformat": 4,
  "nbformat_minor": 0,
  "metadata": {
    "colab": {
      "name": "Copy of Hello, Colaboratory",
      "version": "0.3.2",
      "provenance": [],
      "collapsed_sections": [],
      "toc_visible": true
    },
    "kernelspec": {
      "name": "python3",
      "display_name": "Python 3"
    },
    "accelerator": "GPU"
  },
  "cells": [
    {
      "metadata": {
        "colab_type": "text",
        "id": "9J7p406abzgl"
      },
      "cell_type": "markdown",
      "source": [
        "<img height=\"60px\" src=\"https://colab.research.google.com/img/colab_favicon.ico\" align=\"left\" hspace=\"20px\" vspace=\"5px\">\n",
        "\n",
        "<h1>Welcome to Colaboratory!</h1>\n",
        "Colaboratory is a free Jupyter notebook environment that requires no setup and runs entirely in the cloud. See our [FAQ](https://research.google.com/colaboratory/faq.html) for more info."
      ]
    },
    {
      "metadata": {
        "id": "gOmVTXnfuG4k",
        "colab_type": "code",
        "colab": {}
      },
      "cell_type": "code",
      "source": [
        ""
      ],
      "execution_count": 0,
      "outputs": []
    },
    {
      "metadata": {
        "colab_type": "text",
        "id": "-Rh3-Vt9Nev9"
      },
      "cell_type": "markdown",
      "source": [
        "## Getting Started\n",
        "- [Overview of Colaboratory](/notebooks/basic_features_overview.ipynb)\n",
        "- [Loading and saving data: Local files, Drive, Sheets, Google Cloud Storage](/notebooks/io.ipynb)\n",
        "- [Importing libraries and installing dependencies](/notebooks/snippets/importing_libraries.ipynb)\n",
        "- [Using Google Cloud BigQuery](/notebooks/bigquery.ipynb)\n",
        "- [Forms](/notebooks/forms.ipynb), [Charts](/notebooks/charts.ipynb), [Markdown](/notebooks/markdown_guide.ipynb), & [Widgets](/notebooks/widgets.ipynb)\n",
        "- [TensorFlow with GPU](/notebooks/gpu.ipynb)\n",
        "- [TensorFlow with TPU](/notebooks/tpu.ipynb)\n",
        "- [Machine Learning Crash Course](https://developers.google.com/machine-learning/crash-course/): [Intro to Pandas](/notebooks/mlcc/intro_to_pandas.ipynb) & [First Steps with TensorFlow](/notebooks/mlcc/first_steps_with_tensor_flow.ipynb)\n",
        "- [Using Colab with GitHub](https://colab.research.google.com/github/googlecolab/colabtools/blob/master/notebooks/colab-github-demo.ipynb)\n"
      ]
    },
    {
      "metadata": {
        "colab_type": "text",
        "id": "1fr51oVCHRZU"
      },
      "cell_type": "markdown",
      "source": [
        "## Highlighted Features\n",
        "### Seedbank\n",
        "\n",
        "Looking for Colab notebooks to learn from? Check out [Seedbank](https://tools.google.com/seedbank/), a place to discover interactive machine learning examples."
      ]
    },
    {
      "metadata": {
        "colab_type": "text",
        "id": "9wi5kfGdhK0R"
      },
      "cell_type": "markdown",
      "source": [
        "### TensorFlow execution"
      ]
    },
    {
      "metadata": {
        "colab_type": "text",
        "id": "S9GW-n-oYWIj"
      },
      "cell_type": "markdown",
      "source": [
        "Colaboratory allows you to execute TensorFlow code in your browser with a single click. The example below adds two matrices.\n",
        "\n",
        "$\\begin{bmatrix}\n",
        "  1. & 1. & 1. \\\\\n",
        "  1. & 1. & 1. \\\\\n",
        "\\end{bmatrix} +\n",
        "\\begin{bmatrix}\n",
        "  1. & 2. & 3. \\\\\n",
        "  4. & 5. & 6. \\\\\n",
        "\\end{bmatrix} =\n",
        "\\begin{bmatrix}\n",
        "  2. & 3. & 4. \\\\\n",
        "  5. & 6. & 7. \\\\\n",
        "\\end{bmatrix}$"
      ]
    },
    {
      "metadata": {
        "colab_type": "code",
        "id": "oYZkU7ZN3CL0",
        "outputId": "9589151d-5ff4-4bca-f05e-8bcba8ffcba1",
        "colab": {
          "base_uri": "https://localhost:8080/",
          "height": 53
        }
      },
      "cell_type": "code",
      "source": [
        "import tensorflow as tf\n",
        "\n",
        "input1 = tf.ones((2, 3))\n",
        "input2 = tf.reshape(tf.range(1, 7, dtype=tf.float32), (2, 3))\n",
        "output = input1 + input2\n",
        "\n",
        "with tf.Session():\n",
        "  result = output.eval()\n",
        "result  "
      ],
      "execution_count": 0,
      "outputs": [
        {
          "output_type": "execute_result",
          "data": {
            "text/plain": [
              "array([[2., 3., 4.],\n",
              "       [5., 6., 7.]], dtype=float32)"
            ]
          },
          "metadata": {
            "tags": []
          },
          "execution_count": 0
        }
      ]
    },
    {
      "metadata": {
        "colab_type": "text",
        "id": "nwYF0E3Sjiy4"
      },
      "cell_type": "markdown",
      "source": [
        "### GitHub\n",
        "\n",
        "For a full discussion of interactions between Colab and GitHub, see [Using Colab with GitHub](https://colab.research.google.com/github/googlecolab/colabtools/blob/master/notebooks/colab-github-demo.ipynb). As a brief summary:\n",
        "\n",
        "To save a copy of your Colab notebook to Github, select *File → Save a copy to GitHub…*\n",
        "\n",
        "To load a specific notebook from github, append the github path to http://colab.research.google.com/github/.\n",
        "For example to load this notebook in Colab: [https://github.com/tensorflow/docs/blob/master/site/en/tutorials/_index.ipynb](https://github.com/tensorflow/docs/blob/master/site/en/tutorials/_index.ipynb) use the following Colab URL: [https://colab.research.google.com/github/tensorflow/docs/blob/master/site/en/tutorials/_index.ipynb](https://colab.research.google.com/github/tensorflow/docs/blob/master/site/en/tutorials/_index.ipynb)\n",
        "\n",
        "To open a github notebook in one click, we recommend installing the [Open in Colab Chrome Extension](https://chrome.google.com/webstore/detail/open-in-colab/iogfkhleblhcpcekbiedikdehleodpjo).\n",
        "\n"
      ]
    },
    {
      "metadata": {
        "colab_type": "text",
        "id": "yv2XIwi5hQ_g"
      },
      "cell_type": "markdown",
      "source": [
        "### Visualization"
      ]
    },
    {
      "metadata": {
        "colab_type": "text",
        "id": "rYs5mx2JZkmy"
      },
      "cell_type": "markdown",
      "source": [
        "Colaboratory includes widely used libraries like [matplotlib](https://matplotlib.org/), simplifying visualization."
      ]
    },
    {
      "metadata": {
        "colab_type": "code",
        "id": "xqrc5C-IaA5J",
        "outputId": "3460cc84-faf8-4d8c-a4e6-96a6809c389a",
        "colab": {
          "height": 360
        }
      },
      "cell_type": "code",
      "source": [
        "import matplotlib.pyplot as plt\n",
        "import numpy as np\n",
        "\n",
        "x = np.arange(20)\n",
        "y = [x_i + np.random.randn(1) for x_i in x]\n",
        "a, b = np.polyfit(x, y, 1)\n",
        "_ = plt.plot(x, y, 'o', np.arange(20), a*np.arange(20)+b, '-')"
      ],
      "execution_count": 0,
      "outputs": [
        {
          "output_type": "display_data",
          "data": {
            "image/png": "[encoded data removed]",
            "text/plain": [
              "<matplotlib.figure.Figure at 0x562d64cf1b10>"
            ]
          },
          "metadata": {
            "tags": []
          }
        }
      ]
    },
    {
      "metadata": {
        "colab_type": "text",
        "id": "AN_LRQ9NkOjs"
      },
      "cell_type": "markdown",
      "source": [
        "Want to use a new library?  `pip install` it at the top of the notebook. Then that library can be used anywhere else in the notebook. For recipes to import commonly used libraries, refer to the [importing libraries example notebook](/notebooks/snippets/importing_libraries.ipynb)."
      ]
    },
    {
      "metadata": {
        "colab_type": "code",
        "id": "FlQq0SUepQbd",
        "outputId": "6e404831-3336-4633-b76f-c6313ecdd356",
        "colab": {
          "base_uri": "https://localhost:8080/",
          "height": 349
        }
      },
      "cell_type": "code",
      "source": [
        "!pip install -q matplotlib-venn\n",
        "\n",
        "from matplotlib_venn import venn2\n",
        "_ = venn2(subsets = (3, 2, 1))"
      ],
      "execution_count": 0,
      "outputs": [
        {
          "output_type": "display_data",
          "data": {
            "image/png": "[encoded data removed]",
            "text/plain": [
              "<matplotlib.figure.Figure at 0x7f48ff99ff10>"
            ]
          },
          "metadata": {
            "tags": []
          }
        }
      ]
    },
    {
      "metadata": {
        "colab_type": "text",
        "id": "LxZ3dPzYnyNF"
      },
      "cell_type": "markdown",
      "source": [
        "### Forms\n",
        "\n",
        "Forms can be used to parameterize code. See the [forms example notebook](/notebooks/forms.ipynb) for more details."
      ]
    },
    {
      "metadata": {
        "colab_type": "code",
        "id": "FQ_Hx_9tn7uF",
        "colab": {}
      },
      "cell_type": "code",
      "source": [
        "#@title Examples\n",
        "\n",
        "text = 'value' #@param \n",
        "date_input = '2018-03-22' #@param {type:\"date\"}\n",
        "number_slider = 0 #@param {type:\"slider\", min:-1, max:1, step:0.1}\n",
        "dropdown = '1st option' #@param [\"1st option\", \"2nd option\", \"3rd option\"]\n"
      ],
      "execution_count": 0,
      "outputs": []
    },
    {
      "metadata": {
        "id": "xaEp7IM_uIZh",
        "colab_type": "code",
        "outputId": "3d65dced-32ef-4a7a-94a7-040db0a9b2bd",
        "colab": {
          "base_uri": "https://localhost:8080/",
          "height": 54
        }
      },
      "cell_type": "code",
      "source": [
        "from os.path import exists\n",
        "from wheel.pep425tags import get_abbr_impl, get_impl_ver, get_abi_tag\n",
        "platform = '{}{}-{}'.format(get_abbr_impl(), get_impl_ver(), get_abi_tag())\n",
        "cuda_output = !ldconfig -p|grep cudart.so|sed -e 's/.*\\.\\([0-9]*\\)\\.\\([0-9]*\\)$/cu\\1\\2/'\n",
        "accelerator = cuda_output[0] if exists('/dev/nvidia0') else 'cpu'\n",
        "\n",
        "!pip install -q http://download.pytorch.org/whl/{accelerator}/torch-0.4.1-{platform}-linux_x86_64.whl torchvision\n",
        "import torch"
      ],
      "execution_count": 0,
      "outputs": [
        {
          "output_type": "stream",
          "text": [
            "tcmalloc: large alloc 1073750016 bytes == 0x57bb0000 @  0x7f22cd9e62a4 0x591a07 0x5b5d56 0x502e9a 0x506859 0x502209 0x502f3d 0x506859 0x504c28 0x502540 0x502f3d 0x506859 0x504c28 0x502540 0x502f3d 0x506859 0x504c28 0x502540 0x502f3d 0x507641 0x502209 0x502f3d 0x506859 0x504c28 0x502540 0x502f3d 0x507641 0x504c28 0x502540 0x502f3d 0x507641\n"
          ],
          "name": "stdout"
        }
      ]
    },
    {
      "metadata": {
        "id": "ePNdjMeyuSrC",
        "colab_type": "code",
        "outputId": "99f1af48-c889-4667-c9a4-5f89d2f393f7",
        "colab": {
          "base_uri": "https://localhost:8080/",
          "height": 34
        }
      },
      "cell_type": "code",
      "source": [
        "import torch\n",
        "torch.cuda.get_device_name(0)"
      ],
      "execution_count": 0,
      "outputs": [
        {
          "output_type": "execute_result",
          "data": {
            "text/plain": [
              "'Tesla K80'"
            ]
          },
          "metadata": {
            "tags": []
          },
          "execution_count": 2
        }
      ]
    },
    {
      "metadata": {
        "id": "zr4jzlyEuWYI",
        "colab_type": "text"
      },
      "cell_type": "markdown",
      "source": [
        ""
      ]
    },
    {
      "metadata": {
        "id": "MaUv-8WWuZfr",
        "colab_type": "code",
        "outputId": "615a2eb9-e893-45b3-df8f-b173e4613e1f",
        "colab": {
          "base_uri": "https://localhost:8080/",
          "height": 34
        }
      },
      "cell_type": "code",
      "source": [
        "import os\n",
        "os.mkdir('Images')\n",
        "os.chdir('Images')\n",
        "os.getcwd()"
      ],
      "execution_count": 0,
      "outputs": [
        {
          "output_type": "execute_result",
          "data": {
            "text/plain": [
              "'/content/Images'"
            ]
          },
          "metadata": {
            "tags": []
          },
          "execution_count": 5
        }
      ]
    },
    {
      "metadata": {
        "id": "RcyVbM_FurzD",
        "colab_type": "code",
        "outputId": "fd57465c-8f9f-4868-bcfd-29be9f083355",
        "colab": {
          "base_uri": "https://localhost:8080/",
          "height": 208
        }
      },
      "cell_type": "code",
      "source": [
        "!wget http://www.robots.ox.ac.uk/~vgg/data/flowers/102/102flowers.tgz"
      ],
      "execution_count": 0,
      "outputs": [
        {
          "output_type": "stream",
          "text": [
            "--2019-01-16 12:55:31--  http://www.robots.ox.ac.uk/~vgg/data/flowers/102/102flowers.tgz\n",
            "Resolving www.robots.ox.ac.uk (www.robots.ox.ac.uk)... 129.67.94.2\n",
            "Connecting to www.robots.ox.ac.uk (www.robots.ox.ac.uk)|129.67.94.2|:80... connected.\n",
            "HTTP request sent, awaiting response... 200 OK\n",
            "Length: 344862509 (329M) [application/x-gzip]\n",
            "Saving to: ‘102flowers.tgz’\n",
            "\n",
            "102flowers.tgz      100%[===================>] 328.89M  12.0MB/s    in 30s     \n",
            "\n",
            "2019-01-16 12:56:03 (10.9 MB/s) - ‘102flowers.tgz’ saved [344862509/344862509]\n",
            "\n"
          ],
          "name": "stdout"
        }
      ]
    },
    {
      "metadata": {
        "id": "bzop6EHGu8a-",
        "colab_type": "code",
        "outputId": "2e067708-674e-4b19-bf65-f930f299db60",
        "colab": {
          "base_uri": "https://localhost:8080/",
          "height": 208
        }
      },
      "cell_type": "code",
      "source": [
        "!wget http://www.robots.ox.ac.uk/~vgg/data/flowers/102/imagelabels.mat"
      ],
      "execution_count": 0,
      "outputs": [
        {
          "output_type": "stream",
          "text": [
            "--2019-01-16 13:00:33--  http://www.robots.ox.ac.uk/~vgg/data/flowers/102/imagelabels.mat\n",
            "Resolving www.robots.ox.ac.uk (www.robots.ox.ac.uk)... 129.67.94.2\n",
            "Connecting to www.robots.ox.ac.uk (www.robots.ox.ac.uk)|129.67.94.2|:80... connected.\n",
            "HTTP request sent, awaiting response... 200 OK\n",
            "Length: 502\n",
            "Saving to: ‘imagelabels.mat’\n",
            "\n",
            "imagelabels.mat     100%[===================>]     502  --.-KB/s    in 0s      \n",
            "\n",
            "2019-01-16 13:00:35 (66.2 MB/s) - ‘imagelabels.mat’ saved [502/502]\n",
            "\n"
          ],
          "name": "stdout"
        }
      ]
    },
    {
      "metadata": {
        "id": "_jrYF5fExU4_",
        "colab_type": "code",
        "outputId": "31dd404a-ff3a-44f6-9372-17f9b9b461af",
        "colab": {
          "base_uri": "https://localhost:8080/",
          "height": 208
        }
      },
      "cell_type": "code",
      "source": [
        "!wget http://www.robots.ox.ac.uk/~vgg/data/flowers/102/setid.mat"
      ],
      "execution_count": 0,
      "outputs": [
        {
          "output_type": "stream",
          "text": [
            "--2019-01-16 13:06:45--  http://www.robots.ox.ac.uk/~vgg/data/flowers/102/setid.mat\n",
            "Resolving www.robots.ox.ac.uk (www.robots.ox.ac.uk)... 129.67.94.2\n",
            "Connecting to www.robots.ox.ac.uk (www.robots.ox.ac.uk)|129.67.94.2|:80... connected.\n",
            "HTTP request sent, awaiting response... 200 OK\n",
            "Length: 14989 (15K)\n",
            "Saving to: ‘setid.mat’\n",
            "\n",
            "setid.mat           100%[===================>]  14.64K  58.1KB/s    in 0.3s    \n",
            "\n",
            "2019-01-16 13:06:46 (58.1 KB/s) - ‘setid.mat’ saved [14989/14989]\n",
            "\n"
          ],
          "name": "stdout"
        }
      ]
    },
    {
      "metadata": {
        "id": "CyLOZTZICkZF",
        "colab_type": "code",
        "outputId": "39b346ab-371e-4c00-ea91-5f64367e1170",
        "colab": {
          "base_uri": "https://localhost:8080/",
          "height": 1806
        }
      },
      "cell_type": "code",
      "source": [
        "!du /content/Images/train"
      ],
      "execution_count": 0,
      "outputs": [
        {
          "output_type": "stream",
          "text": [
            "2660\t/content/Images/train/18\n",
            "1192\t/content/Images/train/67\n",
            "1344\t/content/Images/train/62\n",
            "1572\t/content/Images/train/68\n",
            "2668\t/content/Images/train/28\n",
            "2236\t/content/Images/train/87\n",
            "676\t/content/Images/train/7\n",
            "3684\t/content/Images/train/29\n",
            "2884\t/content/Images/train/96\n",
            "2988\t/content/Images/train/56\n",
            "7156\t/content/Images/train/94\n",
            "1688\t/content/Images/train/66\n",
            "6804\t/content/Images/train/89\n",
            "1276\t/content/Images/train/27\n",
            "1952\t/content/Images/train/59\n",
            "2732\t/content/Images/train/90\n",
            "3728\t/content/Images/train/30\n",
            "884\t/content/Images/train/34\n",
            "1188\t/content/Images/train/69\n",
            "2088\t/content/Images/train/36\n",
            "4056\t/content/Images/train/95\n",
            "1776\t/content/Images/train/22\n",
            "1096\t/content/Images/train/15\n",
            "1228\t/content/Images/train/9\n",
            "3900\t/content/Images/train/75\n",
            "5324\t/content/Images/train/81\n",
            "892\t/content/Images/train/45\n",
            "2640\t/content/Images/train/65\n",
            "3324\t/content/Images/train/17\n",
            "4644\t/content/Images/train/88\n",
            "2192\t/content/Images/train/52\n",
            "2460\t/content/Images/train/47\n",
            "844\t/content/Images/train/25\n",
            "3464\t/content/Images/train/58\n",
            "1664\t/content/Images/train/13\n",
            "1220\t/content/Images/train/32\n",
            "2128\t/content/Images/train/91\n",
            "10192\t/content/Images/train/51\n",
            "2304\t/content/Images/train/92\n",
            "2248\t/content/Images/train/55\n",
            "1316\t/content/Images/train/4\n",
            "1156\t/content/Images/train/31\n",
            "896\t/content/Images/train/64\n",
            "1204\t/content/Images/train/102\n",
            "1712\t/content/Images/train/86\n",
            "1472\t/content/Images/train/100\n",
            "1148\t/content/Images/train/10\n",
            "3888\t/content/Images/train/44\n",
            "4960\t/content/Images/train/74\n",
            "1904\t/content/Images/train/99\n",
            "3420\t/content/Images/train/71\n",
            "1372\t/content/Images/train/19\n",
            "852\t/content/Images/train/21\n",
            "1144\t/content/Images/train/49\n",
            "804\t/content/Images/train/79\n",
            "976\t/content/Images/train/24\n",
            "7260\t/content/Images/train/46\n",
            "1156\t/content/Images/train/6\n",
            "3572\t/content/Images/train/76\n",
            "1704\t/content/Images/train/5\n",
            "1712\t/content/Images/train/38\n",
            "908\t/content/Images/train/39\n",
            "2848\t/content/Images/train/11\n",
            "3356\t/content/Images/train/12\n",
            "13524\t/content/Images/train/77\n",
            "1812\t/content/Images/train/70\n",
            "4152\t/content/Images/train/60\n",
            "1640\t/content/Images/train/57\n",
            "916\t/content/Images/train/26\n",
            "5196\t/content/Images/train/43\n",
            "1932\t/content/Images/train/54\n",
            "3944\t/content/Images/train/78\n",
            "4816\t/content/Images/train/82\n",
            "868\t/content/Images/train/1\n",
            "3284\t/content/Images/train/37\n",
            "1908\t/content/Images/train/97\n",
            "2848\t/content/Images/train/23\n",
            "6812\t/content/Images/train/73\n",
            "1612\t/content/Images/train/101\n",
            "1952\t/content/Images/train/40\n",
            "1472\t/content/Images/train/2\n",
            "1468\t/content/Images/train/42\n",
            "3384\t/content/Images/train/50\n",
            "1864\t/content/Images/train/85\n",
            "1504\t/content/Images/train/48\n",
            "2984\t/content/Images/train/8\n",
            "1572\t/content/Images/train/35\n",
            "3528\t/content/Images/train/72\n",
            "700\t/content/Images/train/16\n",
            "1260\t/content/Images/train/93\n",
            "2808\t/content/Images/train/98\n",
            "968\t/content/Images/train/3\n",
            "1348\t/content/Images/train/33\n",
            "1064\t/content/Images/train/20\n",
            "1456\t/content/Images/train/14\n",
            "5164\t/content/Images/train/83\n",
            "5284\t/content/Images/train/41\n",
            "3492\t/content/Images/train/53\n",
            "1220\t/content/Images/train/61\n",
            "2644\t/content/Images/train/84\n",
            "3712\t/content/Images/train/80\n",
            "1060\t/content/Images/train/63\n",
            "266912\t/content/Images/train\n"
          ],
          "name": "stdout"
        }
      ]
    },
    {
      "metadata": {
        "id": "L3B0RUadxZ3W",
        "colab_type": "code",
        "colab": {}
      },
      "cell_type": "code",
      "source": [
        "import scipy.io\n",
        "import os\n",
        "from shutil import copy\n",
        "mat = scipy.io.loadmat('/content/setid.mat')\n",
        "mat2 = scipy.io.loadmat('/content/imagelabels.mat')\n",
        "Images = os.listdir('/content/Images/jpg')\n",
        "for image in sorted(Images):\n",
        "  number = image[:-4].split('_')[-1]\n",
        "  number = int(number.lstrip('0'))\n",
        "  if number in mat['tstid'][0]:\n",
        "    clas = mat2['labels'][0][number-1]\n",
        "    if not os.path.isdir(\"/content/Images/train/\"+str(clas)):\n",
        "      os.mkdir(\"/content/Images/train/\"+str(clas))\n",
        "    copy('/content/Images/jpg/'+image,'/content/Images/train/'+str(clas))\n",
        "  elif number in mat['valid'][0]:\n",
        "    if not os.path.isdir(\"/content/Images/validate/\"+str(clas)):\n",
        "      os.mkdir(\"/content/Images/validate/\"+str(clas))\n",
        "    copy('/content/Images/jpg/'+image,'/content/Images/validate/'+str(clas))\n",
        "  elif number in mat['trnid'][0]:\n",
        "    if not os.path.isdir(\"/content/Images/test/\"+str(clas)):\n",
        "      os.mkdir(\"/content/Images/test/\"+str(clas))\n",
        "    copy('/content/Images/jpg/'+image,'/content/Images/test/'+str(clas))\n",
        "  else:\n",
        "    print(\"No label for->\"+image)"
      ],
      "execution_count": 0,
      "outputs": []
    },
    {
      "metadata": {
        "id": "3s_MG2Xvzb-Q",
        "colab_type": "code",
        "outputId": "71e5836d-1557-4aaa-c649-9ae2315a8e1b",
        "colab": {
          "base_uri": "https://localhost:8080/",
          "height": 54
        }
      },
      "cell_type": "code",
      "source": [
        "import scipy.io\n",
        "import os\n",
        "mat = scipy.io.loadmat('/content/setid.mat')\n",
        "print(mat)"
      ],
      "execution_count": 0,
      "outputs": [
        {
          "output_type": "stream",
          "text": [
            "{'__header__': b'MATLAB 5.0 MAT-file, Platform: GLNX86, Created on: Thu Feb 19 17:38:58 2009', '__version__': '1.0', '__globals__': [], 'trnid': array([[6765, 6755, 6768, ..., 8026, 8036, 8041]], dtype=uint16), 'valid': array([[6773, 6767, 6739, ..., 8028, 8008, 8030]], dtype=uint16), 'tstid': array([[6734, 6735, 6737, ..., 8044, 8045, 8047]], dtype=uint16)}\n"
          ],
          "name": "stdout"
        }
      ]
    },
    {
      "metadata": {
        "id": "cEoE1A5U07_x",
        "colab_type": "code",
        "colab": {}
      },
      "cell_type": "code",
      "source": [
        "%matplotlib inline\n",
        "%config InlineBackend.figure_format = 'retina'\n",
        "\n",
        "import matplotlib.pyplot as plt\n",
        "\n",
        "from torchvision import datasets,transforms,models\n",
        "import torch\n",
        "import torch.nn as nn\n",
        "import torch.nn.functional as F\n",
        "import numpy as np\n",
        "import torch.optim as optim\n",
        "from collections import OrderedDict"
      ],
      "execution_count": 0,
      "outputs": []
    },
    {
      "metadata": {
        "id": "VvKBMhPx1PEY",
        "colab_type": "code",
        "colab": {}
      },
      "cell_type": "code",
      "source": [
        "data_dir = '/content/Images'\n",
        "train_dir = data_dir + '/train'\n",
        "valid_dir = data_dir + '/validate'\n",
        "test_dir = data_dir + '/test'"
      ],
      "execution_count": 0,
      "outputs": []
    },
    {
      "metadata": {
        "id": "UXXyIhDW1Xdb",
        "colab_type": "code",
        "colab": {}
      },
      "cell_type": "code",
      "source": [
        "# TODO: Define your transforms for the training, validation, and testing sets\n",
        "train_transforms = transforms.Compose([transforms.RandomRotation(30),\n",
        "                                       transforms.RandomResizedCrop(224),\n",
        "                                       transforms.RandomHorizontalFlip(),\n",
        "                                       transforms.ToTensor(),\n",
        "                                       transforms.Normalize([0.485, 0.456, 0.406], \n",
        "                                                            [0.229, 0.224, 0.225])])\n",
        "\n",
        "validation_transforms = transforms.Compose([transforms.Resize(256),\n",
        "                                      transforms.CenterCrop(224),\n",
        "                                      transforms.ToTensor(),\n",
        "                                      transforms.Normalize([0.485, 0.456, 0.406], \n",
        "                                                           [0.229, 0.224, 0.225])])\n",
        "\n",
        "test_transforms = transforms.Compose([transforms.Resize(256),\n",
        "                                      transforms.CenterCrop(224),\n",
        "                                      transforms.ToTensor(),\n",
        "                                      transforms.Normalize([0.485, 0.456, 0.406], \n",
        "                                                           [0.229, 0.224, 0.225])]) \n",
        "\n",
        "# TODO: Load the datasets with ImageFolder\n",
        "train_data = datasets.ImageFolder(train_dir,transform=train_transforms)\n",
        "validation_data = datasets.ImageFolder(valid_dir,transform=validation_transforms)\n",
        "test_data = datasets.ImageFolder(test_dir,transform=test_transforms) \n",
        "\n",
        "# TODO: Using the image datasets and the trainforms, define the dataloaders\n",
        "trainloader = torch.utils.data.DataLoader(train_data, batch_size=64, shuffle=True)\n",
        "validationloader = torch.utils.data.DataLoader(validation_data, batch_size=32)\n",
        "testloader = torch.utils.data.DataLoader(test_data, batch_size=32)\n"
      ],
      "execution_count": 0,
      "outputs": []
    },
    {
      "metadata": {
        "id": "AoeNLB6l_ppi",
        "colab_type": "code",
        "outputId": "7b94579a-4975-4859-9722-a970bb9dd091",
        "colab": {
          "base_uri": "https://localhost:8080/",
          "height": 2726
        }
      },
      "cell_type": "code",
      "source": [
        "import json\n",
        "string = "
      ],
      "execution_count": 0,
      "outputs": [
        {
          "output_type": "execute_result",
          "data": {
            "text/plain": [
              "[tensor([[[[ 1.3927,  1.3242,  1.2557,  ..., -1.3815, -1.4158, -1.3987],\n",
              "           [ 1.3755,  1.3413,  1.2557,  ..., -1.3815, -1.3987, -1.3815],\n",
              "           [ 1.3584,  1.3927,  1.3242,  ..., -1.3987, -1.3987, -1.3815],\n",
              "           ...,\n",
              "           [ 0.8618,  0.8447,  0.8618,  ..., -2.1179, -2.1179, -2.1179],\n",
              "           [ 0.9132,  0.8447,  0.2796,  ..., -2.1179, -2.1179, -2.1179],\n",
              "           [ 1.0331,  0.7077, -0.4739,  ..., -2.1179, -2.1179, -2.1179]],\n",
              " \n",
              "          [[ 1.8859,  1.8158,  1.7458,  ..., -1.2304, -1.2654, -1.2479],\n",
              "           [ 1.8683,  1.8333,  1.7808,  ..., -1.2304, -1.2479, -1.2304],\n",
              "           [ 1.8508,  1.8859,  1.8508,  ..., -1.2479, -1.2479, -1.2304],\n",
              "           ...,\n",
              "           [ 1.4832,  1.5182,  1.5532,  ..., -2.0357, -2.0357, -2.0357],\n",
              "           [ 1.5182,  1.5007,  0.9055,  ..., -2.0357, -2.0357, -2.0357],\n",
              "           [ 1.7283,  1.3431, -0.0049,  ..., -2.0357, -2.0357, -2.0357]],\n",
              " \n",
              "          [[ 2.3437,  2.2740,  2.2043,  ..., -0.9156, -0.9504, -0.9330],\n",
              "           [ 2.3263,  2.2914,  2.2391,  ..., -0.9156, -0.9330, -0.9156],\n",
              "           [ 2.3088,  2.3437,  2.3088,  ..., -0.9330, -0.9330, -0.9156],\n",
              "           ...,\n",
              "           [ 1.9951,  2.0474,  2.0823,  ..., -1.8044, -1.8044, -1.8044],\n",
              "           [ 2.0474,  2.0300,  1.4200,  ..., -1.8044, -1.8044, -1.8044],\n",
              "           [ 2.1694,  1.7860,  0.4091,  ..., -1.8044, -1.8044, -1.8044]]],\n",
              " \n",
              " \n",
              "         [[[-2.1179, -2.1179, -2.1179,  ..., -1.2274, -1.2274, -1.2274],\n",
              "           [-2.1179, -2.1179, -2.1179,  ..., -1.2617, -1.2617, -1.2788],\n",
              "           [-2.1179, -2.1179, -2.1179,  ..., -1.3302, -1.3130, -1.3130],\n",
              "           ...,\n",
              "           [-1.1247, -1.0562, -0.9877,  ..., -2.1179, -2.1179, -2.1179],\n",
              "           [-1.1418, -1.0562, -0.9534,  ..., -2.1179, -2.1179, -2.1179],\n",
              "           [-1.0904, -1.0390, -0.9363,  ..., -2.1179, -2.1179, -2.1179]],\n",
              " \n",
              "          [[-2.0357, -2.0357, -2.0357,  ..., -0.3375, -0.3725, -0.3550],\n",
              "           [-2.0357, -2.0357, -2.0357,  ..., -0.3550, -0.3901, -0.3901],\n",
              "           [-2.0357, -2.0357, -2.0357,  ..., -0.3901, -0.4076, -0.4251],\n",
              "           ...,\n",
              "           [-0.5126, -0.4601, -0.3901,  ..., -2.0357, -2.0357, -2.0357],\n",
              "           [-0.5301, -0.4601, -0.3550,  ..., -2.0357, -2.0357, -2.0357],\n",
              "           [-0.4951, -0.4426, -0.3375,  ..., -2.0357, -2.0357, -2.0357]],\n",
              " \n",
              "          [[-1.8044, -1.8044, -1.8044,  ..., -1.2467, -1.1944, -1.1596],\n",
              "           [-1.8044, -1.8044, -1.8044,  ..., -1.1770, -1.1770, -1.1944],\n",
              "           [-1.8044, -1.8044, -1.8044,  ..., -1.1596, -1.1770, -1.1944],\n",
              "           ...,\n",
              "           [-0.6193, -0.5321, -0.4101,  ..., -1.8044, -1.8044, -1.8044],\n",
              "           [-0.5844, -0.5147, -0.3753,  ..., -1.8044, -1.8044, -1.8044],\n",
              "           [-0.5321, -0.4798, -0.3578,  ..., -1.8044, -1.8044, -1.8044]]],\n",
              " \n",
              " \n",
              "         [[[ 0.8276,  0.7762,  0.7248,  ..., -1.1247, -1.4158, -1.4500],\n",
              "           [ 0.8618,  0.8104,  0.8276,  ..., -1.5870, -1.6898, -1.7754],\n",
              "           [ 0.7419,  0.7248,  0.8447,  ..., -1.7240, -1.7754, -1.8097],\n",
              "           ...,\n",
              "           [-1.8097, -1.7754, -1.7069,  ..., -2.1179, -2.1179, -2.1179],\n",
              "           [-1.8097, -1.7925, -1.7412,  ..., -2.1179, -2.1179, -2.1179],\n",
              "           [-1.8782, -1.8097, -1.7583,  ..., -2.1179, -2.1179, -2.1179]],\n",
              " \n",
              "          [[ 1.0630,  0.9755,  0.8880,  ..., -1.0553, -1.3354, -1.3004],\n",
              "           [ 1.0455,  0.9755,  0.9580,  ..., -1.5455, -1.6155, -1.6681],\n",
              "           [ 0.9055,  0.8704,  0.9755,  ..., -1.7031, -1.7206, -1.7206],\n",
              "           ...,\n",
              "           [-1.7381, -1.6856, -1.6331,  ..., -2.0357, -2.0357, -2.0357],\n",
              "           [-1.7556, -1.7031, -1.6331,  ..., -2.0357, -2.0357, -2.0357],\n",
              "           [-1.8256, -1.7031, -1.6506,  ..., -2.0357, -2.0357, -2.0357]],\n",
              " \n",
              "          [[ 1.2282,  1.1934,  1.1585,  ..., -0.9504, -1.1944, -1.1944],\n",
              "           [ 1.3154,  1.2805,  1.2805,  ..., -1.4036, -1.4559, -1.5256],\n",
              "           [ 1.2282,  1.2282,  1.3677,  ..., -1.5081, -1.5256, -1.5256],\n",
              "           ...,\n",
              "           [-1.5953, -1.5604, -1.5256,  ..., -1.8044, -1.8044, -1.8044],\n",
              "           [-1.5953, -1.5779, -1.5430,  ..., -1.8044, -1.8044, -1.8044],\n",
              "           [-1.6476, -1.5779, -1.5256,  ..., -1.8044, -1.8044, -1.8044]]],\n",
              " \n",
              " \n",
              "         ...,\n",
              " \n",
              " \n",
              "         [[[-2.1179, -2.1179, -2.1179,  ..., -1.9638, -1.9809, -1.9638],\n",
              "           [-2.1179, -2.1179, -2.1179,  ..., -1.9809, -1.9295, -1.8782],\n",
              "           [-2.1179, -2.1179, -2.1179,  ..., -2.0323, -1.9638, -1.9638],\n",
              "           ...,\n",
              "           [-1.0048, -1.1075, -1.1589,  ...,  1.0331,  1.1015,  1.1187],\n",
              "           [-1.1418, -1.1760, -1.2445,  ...,  0.9303,  1.0159,  1.0159],\n",
              "           [-1.0562, -1.1932, -1.2274,  ...,  0.6563,  0.8104,  0.7419]],\n",
              " \n",
              "          [[-2.0357, -2.0357, -2.0357,  ..., -1.8782, -1.8957, -1.8782],\n",
              "           [-2.0357, -2.0357, -2.0357,  ..., -1.8957, -1.8431, -1.7906],\n",
              "           [-2.0357, -2.0357, -2.0357,  ..., -1.9482, -1.8782, -1.8782],\n",
              "           ...,\n",
              "           [-0.3550, -0.4601, -0.5126,  ...,  1.2556,  1.3256,  1.3431],\n",
              "           [-0.5126, -0.5476, -0.6176,  ...,  1.1155,  1.2206,  1.2206],\n",
              "           [-0.4251, -0.5651, -0.6001,  ...,  0.8354,  0.9930,  0.9055]],\n",
              " \n",
              "          [[-1.8044, -1.8044, -1.8044,  ..., -1.7870, -1.7870, -1.7696],\n",
              "           [-1.8044, -1.8044, -1.8044,  ..., -1.7870, -1.7522, -1.7347],\n",
              "           [-1.8044, -1.8044, -1.8044,  ..., -1.8044, -1.7870, -1.7870],\n",
              "           ...,\n",
              "           [-1.6302, -1.7173, -1.6999,  ...,  0.1476,  0.1999,  0.2348],\n",
              "           [-1.7696, -1.7870, -1.7870,  ...,  0.0605,  0.1302,  0.1476],\n",
              "           [-1.7173, -1.8044, -1.8044,  ..., -0.2184, -0.0615, -0.1138]]],\n",
              " \n",
              " \n",
              "         [[[-0.6794, -0.6965, -0.6965,  ..., -1.1932, -1.1760, -1.1760],\n",
              "           [-0.7308, -0.7308, -0.7479,  ..., -1.1247, -1.1075, -1.1760],\n",
              "           [-0.7308, -0.7650, -0.7650,  ..., -0.7822, -0.8164, -0.9705],\n",
              "           ...,\n",
              "           [ 2.0434,  2.0092,  2.0092,  ..., -0.9877, -1.0048, -1.0219],\n",
              "           [ 1.5639,  1.5639,  1.6324,  ..., -1.0219, -1.0562, -1.0219],\n",
              "           [ 1.0331,  1.0502,  1.0673,  ..., -1.0048, -0.9877, -1.0048]],\n",
              " \n",
              "          [[-0.5126, -0.5301, -0.5301,  ..., -1.1604, -1.1253, -1.0728],\n",
              "           [-0.5826, -0.5826, -0.5826,  ..., -1.1604, -1.1253, -1.0728],\n",
              "           [-0.5826, -0.6176, -0.6176,  ..., -0.8452, -0.8627, -0.9503],\n",
              "           ...,\n",
              "           [ 2.2185,  2.1835,  2.1835,  ..., -0.8277, -0.8452, -0.8627],\n",
              "           [ 1.7283,  1.7283,  1.7983,  ..., -0.8627, -0.8978, -0.8452],\n",
              "           [ 1.1856,  1.2031,  1.2381,  ..., -0.8277, -0.8102, -0.8277]],\n",
              " \n",
              "          [[-0.5844, -0.6193, -0.6367,  ..., -1.2641, -1.2293, -1.2119],\n",
              "           [-0.6018, -0.6193, -0.6541,  ..., -1.2293, -1.2119, -1.1944],\n",
              "           [-0.5844, -0.6193, -0.6367,  ..., -0.8807, -0.8807, -1.0027],\n",
              "           ...,\n",
              "           [ 1.8034,  1.7685,  1.7685,  ..., -0.9330, -0.9504, -0.9678],\n",
              "           [ 1.4374,  1.4374,  1.5071,  ..., -0.9678, -1.0027, -0.9504],\n",
              "           [ 0.9494,  0.9842,  1.0191,  ..., -0.9504, -0.9330, -0.9504]]],\n",
              " \n",
              " \n",
              "         [[[-2.1179, -2.1179, -2.1179,  ...,  2.0092,  2.0092,  2.1633],\n",
              "           [-2.1179, -2.1179, -2.1179,  ...,  2.1804,  2.1633,  2.1804],\n",
              "           [-2.1179, -2.1179, -2.1179,  ...,  2.1975,  2.0948,  2.2147],\n",
              "           ...,\n",
              "           [-1.4158, -1.4672, -1.3473,  ...,  2.2147,  2.1975,  2.1462],\n",
              "           [-1.3815, -1.4329, -1.3644,  ...,  0.5022,  0.4851, -0.0458],\n",
              "           [-1.3644, -1.3644, -1.2788,  ..., -2.1179, -2.1179, -2.1179]],\n",
              " \n",
              "          [[-2.0357, -2.0357, -2.0357,  ...,  0.9580,  1.0105,  1.1155],\n",
              "           [-2.0357, -2.0357, -2.0357,  ...,  1.0280,  1.1856,  1.0980],\n",
              "           [-2.0357, -2.0357, -2.0357,  ...,  1.0980,  1.0280,  1.0280],\n",
              "           ...,\n",
              "           [-1.3179, -1.3004, -1.2304,  ...,  0.9755,  0.9405,  1.0805],\n",
              "           [-1.2479, -1.2829, -1.2304,  ..., -0.2150, -0.2500, -0.5301],\n",
              "           [-1.2479, -1.2654, -1.1604,  ..., -2.0357, -2.0357, -2.0357]],\n",
              " \n",
              "          [[-1.8044, -1.8044, -1.8044,  ..., -1.7696, -1.7522, -1.6476],\n",
              "           [-1.8044, -1.8044, -1.8044,  ..., -1.5953, -1.6999, -1.6650],\n",
              "           [-1.8044, -1.8044, -1.8044,  ..., -1.5953, -1.7696, -1.5430],\n",
              "           ...,\n",
              "           [-0.8807, -1.0898, -1.0550,  ..., -1.7522, -1.7870, -1.7870],\n",
              "           [-0.8458, -1.0027, -1.0201,  ..., -1.7696, -1.7870, -1.7696],\n",
              "           [-0.8458, -0.9156, -1.0898,  ..., -1.8044, -1.8044, -1.8044]]]]),\n",
              " tensor([ 70,  81,  75,  67,  49,  78,   0,  89,  77,  43,  89,  41,  90,  14,\n",
              "          10,  73,  82,  51,  81,  95,  84,  44,  77,  69,   2,  40,  76,  45,\n",
              "          58,  90,  21,  49,  94,  77,  97,  90,   6,  75,  98, 100,  65,  24,\n",
              "          32,  84,  34,  38,  49,  92,  38,  19,   2, 101,  45,  99,   6,  54,\n",
              "           4,  19,  20,  32,  89,  73,  18,  44])]"
            ]
          },
          "metadata": {
            "tags": []
          },
          "execution_count": 7
        }
      ]
    },
    {
      "metadata": {
        "id": "_Ucxxpa7CHCC",
        "colab_type": "code",
        "colab": {}
      },
      "cell_type": "code",
      "source": [
        "string = '''{'21': 'fire lily',\n",
        " '3': 'canterbury bells',\n",
        " '45': 'bolero deep blue',\n",
        " '1': 'pink primrose',\n",
        " '34': 'mexican aster',\n",
        " '27': 'prince of wales feathers',\n",
        " '7': 'moon orchid',\n",
        " '16': 'globe-flower',\n",
        " '25': 'grape hyacinth',\n",
        " '26': 'corn poppy',\n",
        " '79': 'toad lily',\n",
        " '39': 'siam tulip',\n",
        " '24': 'red ginger',\n",
        " '67': 'spring crocus',\n",
        " '35': 'alpine sea holly',\n",
        " '32': 'garden phlox',\n",
        " '10': 'globe thistle',\n",
        " '6': 'tiger lily',\n",
        " '93': 'ball moss',\n",
        " '33': 'love in the mist',\n",
        " '9': 'monkshood',\n",
        " '102': 'blackberry lily',\n",
        " '14': 'spear thistle',\n",
        " '19': 'balloon flower',\n",
        " '100': 'blanket flower',\n",
        " '13': 'king protea',\n",
        " '49': 'oxeye daisy',\n",
        " '15': 'yellow iris',\n",
        " '61': 'cautleya spicata',\n",
        " '31': 'carnation',\n",
        " '64': 'silverbush',\n",
        " '68': 'bearded iris',\n",
        " '63': 'black-eyed susan',\n",
        " '69': 'windflower',\n",
        " '62': 'japanese anemone',\n",
        " '20': 'giant white arum lily',\n",
        " '38': 'great masterwort',\n",
        " '4': 'sweet pea',\n",
        " '86': 'tree mallow',\n",
        " '101': 'trumpet creeper',\n",
        " '42': 'daffodil',\n",
        " '22': 'pincushion flower',\n",
        " '2': 'hard-leaved pocket orchid',\n",
        " '54': 'sunflower',\n",
        " '66': 'osteospermum',\n",
        " '70': 'tree poppy',\n",
        " '85': 'desert-rose',\n",
        " '99': 'bromelia',\n",
        " '87': 'magnolia',\n",
        " '5': 'english marigold',\n",
        " '92': 'bee balm',\n",
        " '28': 'stemless gentian',\n",
        " '97': 'mallow',\n",
        " '57': 'gaura',\n",
        " '40': 'lenten rose',\n",
        " '47': 'marigold',\n",
        " '59': 'orange dahlia',\n",
        " '48': 'buttercup',\n",
        " '55': 'pelargonium',\n",
        " '36': 'ruby-lipped cattleya',\n",
        " '91': 'hippeastrum',\n",
        " '29': 'artichoke',\n",
        " '71': 'gazania',\n",
        " '90': 'canna lily',\n",
        " '18': 'peruvian lily',\n",
        " '98': 'mexican petunia',\n",
        " '8': 'bird of paradise',\n",
        " '30': 'sweet william',\n",
        " '17': 'purple coneflower',\n",
        " '52': 'wild pansy',\n",
        " '84': 'columbine',\n",
        " '12': \"colts foot\",\n",
        " '11': 'snapdragon',\n",
        " '96': 'camellia',\n",
        " '23': 'fritillary',\n",
        " '50': 'common dandelion',\n",
        " '44': 'poinsettia',\n",
        " '53': 'primula',\n",
        " '72': 'azalea',\n",
        " '65': 'californian poppy',\n",
        " '80': 'anthurium',\n",
        " '76': 'morning glory',\n",
        " '37': 'cape flower',\n",
        " '56': 'bishop of llandaff',\n",
        " '60': 'pink-yellow dahlia',\n",
        " '82': 'clematis',\n",
        " '58': 'geranium',\n",
        " '75': 'thorn apple',\n",
        " '41': 'barbeton daisy',\n",
        " '95': 'bougainvillea',\n",
        " '43': 'sword lily',\n",
        " '83': 'hibiscus',\n",
        " '78': 'lotus lotus',\n",
        " '88': 'cyclamen',\n",
        " '94': 'foxglove',\n",
        " '81': 'frangipani',\n",
        " '74': 'rose',\n",
        " '89': 'watercress',\n",
        " '73': 'water lily',\n",
        " '46': 'wallflower',\n",
        " '77': 'passion flower',\n",
        " '51': 'petunia'}'''"
      ],
      "execution_count": 0,
      "outputs": []
    },
    {
      "metadata": {
        "id": "9KqdNZjj_s6F",
        "colab_type": "code",
        "colab": {}
      },
      "cell_type": "code",
      "source": [
        "string = string.replace('\\'','\\\"')\n",
        "import json\n",
        "p = json.loads(string)\n",
        "p['9']"
      ],
      "execution_count": 0,
      "outputs": []
    },
    {
      "metadata": {
        "id": "L56Sq680IcoH",
        "colab_type": "code",
        "outputId": "8aa8ba19-f4af-462a-8ce3-3351f88ba296",
        "colab": {
          "base_uri": "https://localhost:8080/",
          "height": 34
        }
      },
      "cell_type": "code",
      "source": [
        "p['9']"
      ],
      "execution_count": 0,
      "outputs": [
        {
          "output_type": "execute_result",
          "data": {
            "text/plain": [
              "'monkshood'"
            ]
          },
          "metadata": {
            "tags": []
          },
          "execution_count": 28
        }
      ]
    },
    {
      "metadata": {
        "colab_type": "text",
        "id": "rTX3heEtu0b2"
      },
      "cell_type": "markdown",
      "source": [
        "### Local runtime support\n",
        "\n",
        "Colab  supports connecting to a Jupyter runtime on your local machine. For more information, see our [documentation](https://research.google.com/colaboratory/local-runtimes.html)."
      ]
    },
    {
      "metadata": {
        "id": "EWiju6jP3RDu",
        "colab_type": "code",
        "outputId": "76767e90-e784-4757-d3a4-c8531aa0667b",
        "colab": {
          "base_uri": "https://localhost:8080/",
          "height": 104
        }
      },
      "cell_type": "code",
      "source": [
        "os.chdir('/content/Images/train/1')\n",
        "!ls"
      ],
      "execution_count": 0,
      "outputs": [
        {
          "output_type": "stream",
          "text": [
            "image_06734.jpg  image_06745.jpg  image_06753.jpg  image_06760.jpg\n",
            "image_06735.jpg  image_06746.jpg  image_06756.jpg  image_06764.jpg\n",
            "image_06737.jpg  image_06748.jpg  image_06757.jpg  image_06769.jpg\n",
            "image_06742.jpg  image_06751.jpg  image_06758.jpg  image_06770.jpg\n",
            "image_06743.jpg  image_06752.jpg  image_06759.jpg  image_06772.jpg\n"
          ],
          "name": "stdout"
        }
      ]
    },
    {
      "metadata": {
        "id": "HnkPy-j88NrM",
        "colab_type": "code",
        "outputId": "a8eac81c-e19e-415b-f9f6-0017e2a5f44f",
        "colab": {
          "base_uri": "https://localhost:8080/",
          "height": 1424
        }
      },
      "cell_type": "code",
      "source": [
        "model = models.vgg19(pretrained=True)\n",
        "for param in model.parameters():\n",
        "    param.requires_grad = False\n",
        "\n",
        "classifier = nn.Sequential(OrderedDict([\n",
        "                          ('fc1', nn.Linear(25088, 10000)),\n",
        "                          ('relu', nn.ReLU()),\n",
        "                          ('drop',nn.Dropout(0.2)),\n",
        "                          ('fc2', nn.Linear(10000,1000)),\n",
        "                          ('relu', nn.ReLU()),\n",
        "                          ('drop2',nn.Dropout(0.1)),\n",
        "                          ('fc3', nn.Linear(1000, 102)),\n",
        "                          ('output', nn.LogSoftmax(dim=1))\n",
        "                          ]))\n",
        "\n",
        "model.classifier = classifier\n",
        "criterion = nn.NLLLoss()\n",
        "optimizer = optim.Adam(model.classifier.parameters(), lr=0.0001)\n",
        "optimizer.zero_grad()\n",
        "model.classifier = classifier\n",
        "epochs = 3\n",
        "print_every = 4\n",
        "steps = 0\n",
        "\n",
        "# change to cuda\n",
        "model.to('cuda')\n",
        "print(torch.cuda.get_device_name(0))\n",
        "for e in range(epochs):\n",
        "    running_loss = 0\n",
        "    for ii, (inputs, labels) in enumerate(trainloader):\n",
        "        steps += 1\n",
        "        \n",
        "        inputs, labels = inputs.to('cuda'), labels.to('cuda')\n",
        "        \n",
        "        optimizer.zero_grad()\n",
        "        \n",
        "        # Forward and backward passes\n",
        "        outputs = model.forward(inputs)\n",
        "        loss = criterion(outputs, labels)\n",
        "        loss.backward()\n",
        "        optimizer.step()\n",
        "        \n",
        "        running_loss += loss.item()\n",
        "        \n",
        "        if steps % print_every == 0:\n",
        "            print(\"Epoch: {}/{}... \".format(e+1, epochs),\n",
        "                  \"Loss: {:.4f}\".format(running_loss/print_every))\n",
        "            \n",
        "            running_loss = 0\n",
        "    \n",
        "    correct = 0\n",
        "    total = 0\n",
        "    print(\"Validating the net\")\n",
        "    for ii, (inputs, labels) in enumerate(validationloader):\n",
        "        with torch.no_grad():\n",
        "            inputs, labels = inputs.to('cuda'), labels.to('cuda')\n",
        "            # Forward and backward passes\n",
        "            outputs = model.forward(inputs)\n",
        "            _, predicted = torch.max(outputs.data, 1)\n",
        "            total += labels.size(0)\n",
        "            correct += (predicted == labels).sum().item()\n",
        "    print(\"Accuracy->\"+str(correct/total))"
      ],
      "execution_count": 0,
      "outputs": [
        {
          "output_type": "stream",
          "text": [
            "Downloading: \"https://download.pytorch.org/models/vgg19-dcbb9e9d.pth\" to /root/.torch/models/vgg19-dcbb9e9d.pth\n",
            "100%|██████████| 574673361/574673361 [00:06<00:00, 89840534.04it/s]\n"
          ],
          "name": "stderr"
        },
        {
          "output_type": "stream",
          "text": [
            "Tesla K80\n",
            "Epoch: 1/3...  Loss: 4.5068\n",
            "Epoch: 1/3...  Loss: 4.1260\n",
            "Epoch: 1/3...  Loss: 3.7803\n",
            "Epoch: 1/3...  Loss: 3.5978\n",
            "Epoch: 1/3...  Loss: 3.5076\n",
            "Epoch: 1/3...  Loss: 3.0032\n",
            "Epoch: 1/3...  Loss: 2.8749\n",
            "Epoch: 1/3...  Loss: 2.7311\n",
            "Epoch: 1/3...  Loss: 2.5449\n",
            "Epoch: 1/3...  Loss: 2.3530\n",
            "Epoch: 1/3...  Loss: 2.2346\n",
            "Epoch: 1/3...  Loss: 2.3118\n",
            "Epoch: 1/3...  Loss: 1.9781\n",
            "Epoch: 1/3...  Loss: 2.0921\n",
            "Epoch: 1/3...  Loss: 1.8067\n",
            "Epoch: 1/3...  Loss: 1.7812\n",
            "Epoch: 1/3...  Loss: 1.8018\n",
            "Epoch: 1/3...  Loss: 1.8036\n",
            "Epoch: 1/3...  Loss: 1.7007\n",
            "Epoch: 1/3...  Loss: 1.5520\n",
            "Epoch: 1/3...  Loss: 1.4266\n",
            "Epoch: 1/3...  Loss: 1.3742\n",
            "Epoch: 1/3...  Loss: 1.3403\n",
            "Epoch: 1/3...  Loss: 1.2754\n",
            "Validating the net\n",
            "Accuracy->0.6362745098039215\n",
            "Epoch: 2/3...  Loss: 0.8987\n",
            "Epoch: 2/3...  Loss: 1.4055\n",
            "Epoch: 2/3...  Loss: 1.1367\n",
            "Epoch: 2/3...  Loss: 1.3138\n",
            "Epoch: 2/3...  Loss: 1.1854\n",
            "Epoch: 2/3...  Loss: 1.1005\n",
            "Epoch: 2/3...  Loss: 1.1666\n",
            "Epoch: 2/3...  Loss: 1.0557\n",
            "Epoch: 2/3...  Loss: 1.1695\n",
            "Epoch: 2/3...  Loss: 1.1142\n",
            "Epoch: 2/3...  Loss: 0.9715\n",
            "Epoch: 2/3...  Loss: 0.9820\n",
            "Epoch: 2/3...  Loss: 1.1512\n",
            "Epoch: 2/3...  Loss: 1.0896\n",
            "Epoch: 2/3...  Loss: 1.1759\n",
            "Epoch: 2/3...  Loss: 1.0519\n",
            "Epoch: 2/3...  Loss: 1.0494\n",
            "Epoch: 2/3...  Loss: 1.0767\n",
            "Epoch: 2/3...  Loss: 1.0540\n",
            "Epoch: 2/3...  Loss: 1.0486\n",
            "Epoch: 2/3...  Loss: 1.0529\n",
            "Epoch: 2/3...  Loss: 0.9910\n",
            "Epoch: 2/3...  Loss: 1.0771\n",
            "Epoch: 2/3...  Loss: 0.9865\n",
            "Validating the net\n",
            "Accuracy->0.7578431372549019\n",
            "Epoch: 3/3...  Loss: 0.4818\n",
            "Epoch: 3/3...  Loss: 0.9558\n",
            "Epoch: 3/3...  Loss: 0.8278\n",
            "Epoch: 3/3...  Loss: 0.8818\n",
            "Epoch: 3/3...  Loss: 1.0233\n",
            "Epoch: 3/3...  Loss: 0.7097\n",
            "Epoch: 3/3...  Loss: 0.9733\n",
            "Epoch: 3/3...  Loss: 0.8344\n",
            "Epoch: 3/3...  Loss: 0.7924\n",
            "Epoch: 3/3...  Loss: 0.6811\n",
            "Epoch: 3/3...  Loss: 0.8502\n",
            "Epoch: 3/3...  Loss: 0.9126\n",
            "Epoch: 3/3...  Loss: 0.8187\n",
            "Epoch: 3/3...  Loss: 0.9399\n",
            "Epoch: 3/3...  Loss: 0.8686\n",
            "Epoch: 3/3...  Loss: 0.8696\n",
            "Epoch: 3/3...  Loss: 0.7733\n",
            "Epoch: 3/3...  Loss: 0.8805\n",
            "Epoch: 3/3...  Loss: 0.9028\n",
            "Epoch: 3/3...  Loss: 0.7037\n",
            "Epoch: 3/3...  Loss: 0.7950\n",
            "Epoch: 3/3...  Loss: 0.7300\n",
            "Epoch: 3/3...  Loss: 0.9883\n",
            "Epoch: 3/3...  Loss: 0.7517\n",
            "Validating the net\n",
            "Accuracy->0.7666666666666667\n"
          ],
          "name": "stdout"
        }
      ]
    },
    {
      "metadata": {
        "id": "A7yaOavIMcfV",
        "colab_type": "code",
        "outputId": "7be6c02a-bdc3-44de-8299-942ed5c8f5a3",
        "colab": {
          "base_uri": "https://localhost:8080/",
          "height": 52
        }
      },
      "cell_type": "code",
      "source": [
        "# TODO: Do validation on the test set\n",
        "correct = 0\n",
        "total = 0\n",
        "print(\"Validating the net using Test Images\")\n",
        "for ii, (inputs, labels) in enumerate(testloader):\n",
        "    with torch.no_grad():\n",
        "        inputs, labels = inputs.to('cuda'), labels.to('cuda')\n",
        "            # Forward and backward passes\n",
        "        outputs = model.forward(inputs)\n",
        "        _, predicted = torch.max(outputs.data, 1)\n",
        "        total += labels.size(0)\n",
        "        correct += (predicted == labels).sum().item()\n",
        "print(\"Accuracy->\"+str(correct/total))"
      ],
      "execution_count": 0,
      "outputs": [
        {
          "output_type": "stream",
          "text": [
            "Validating the net using Test Images\n",
            "Accuracy->0.788235294117647\n"
          ],
          "name": "stdout"
        }
      ]
    },
    {
      "metadata": {
        "id": "I5yN1Z4eMnws",
        "colab_type": "code",
        "colab": {}
      },
      "cell_type": "code",
      "source": [
        "os.chdir('/content')\n",
        "torch.save({\n",
        "            'epoch': epochs,\n",
        "            'model_state_dict': model.state_dict(),\n",
        "            'optimizer_state_dict': optimizer.state_dict(),\n",
        "            'loss': loss,\n",
        "            }, 'modl')"
      ],
      "execution_count": 0,
      "outputs": []
    },
    {
      "metadata": {
        "id": "HQrcAZe5NLcW",
        "colab_type": "code",
        "outputId": "1fcf1c9e-e652-42e3-9375-9abe2291e101",
        "colab": {
          "base_uri": "https://localhost:8080/",
          "height": 34
        }
      },
      "cell_type": "code",
      "source": [
        "os.chdir('/content')\n",
        "!ls"
      ],
      "execution_count": 0,
      "outputs": [
        {
          "output_type": "stream",
          "text": [
            "102flowers.tgz\timagelabels.mat  Images  modl  sample_data  setid.mat\n"
          ],
          "name": "stdout"
        }
      ]
    },
    {
      "metadata": {
        "id": "RLa_tNV_Nhn4",
        "colab_type": "code",
        "colab": {}
      },
      "cell_type": "code",
      "source": [
        "model = models.vgg19(pretrained=True)\n",
        "for param in model.parameters():\n",
        "    param.requires_grad = False\n",
        "\n",
        "classifier = nn.Sequential(OrderedDict([\n",
        "                          ('fc1', nn.Linear(25088, 10000)),\n",
        "                          ('relu', nn.ReLU()),\n",
        "                          ('drop',nn.Dropout(0.2)),\n",
        "                          ('fc2', nn.Linear(10000,1000)),\n",
        "                          ('relu', nn.ReLU()),\n",
        "                          ('drop2',nn.Dropout(0.1)),\n",
        "                          ('fc3', nn.Linear(1000, 102)),\n",
        "                          ('output', nn.LogSoftmax(dim=1))\n",
        "                          ]))\n",
        "\n",
        "model.classifier = classifier\n",
        "criterion = nn.NLLLoss()\n",
        "optimizer = optim.Adam(model.classifier.parameters(), lr=0.0001)\n",
        "\n",
        "checkpoint = torch.load('/content/modl')\n",
        "model.load_state_dict(checkpoint['model_state_dict'])\n",
        "optimizer.load_state_dict(checkpoint['optimizer_state_dict'])\n",
        "epoch = checkpoint['epoch']\n",
        "loss = checkpoint['loss']"
      ],
      "execution_count": 0,
      "outputs": []
    },
    {
      "metadata": {
        "id": "k_0ystfTNzQB",
        "colab_type": "code",
        "outputId": "794c5449-ccd1-4499-e5f7-3103d08d8a59",
        "colab": {
          "base_uri": "https://localhost:8080/",
          "height": 52
        }
      },
      "cell_type": "code",
      "source": [
        "# TODO: Do validation on the test set\n",
        "correct = 0\n",
        "total = 0\n",
        "model.to('cuda')\n",
        "print(\"Validating the net using Test Images\")\n",
        "for ii, (inputs, labels) in enumerate(testloader):\n",
        "    with torch.no_grad():\n",
        "        inputs, labels = inputs.to('cuda'), labels.to('cuda')\n",
        "            # Forward and backward passes\n",
        "        outputs = model.forward(inputs)\n",
        "        _, predicted = torch.max(outputs.data, 1)\n",
        "        total += labels.size(0)\n",
        "        correct += (predicted == labels).sum().item()\n",
        "print(\"Accuracy->\"+str(correct/total))"
      ],
      "execution_count": 0,
      "outputs": [
        {
          "output_type": "stream",
          "text": [
            "Validating the net using Test Images\n",
            "Accuracy->0.788235294117647\n"
          ],
          "name": "stdout"
        }
      ]
    },
    {
      "metadata": {
        "id": "yuuPJdsEUHNJ",
        "colab_type": "code",
        "outputId": "cbc37fd0-e0e0-48ea-d8ac-6776dcd6ab7a",
        "colab": {
          "base_uri": "https://localhost:8080/",
          "height": 69
        }
      },
      "cell_type": "code",
      "source": [
        "os.chdir('/content/Images/test/1')\n",
        "!ls\n"
      ],
      "execution_count": 0,
      "outputs": [
        {
          "output_type": "stream",
          "text": [
            "image_06736.jpg  image_06750.jpg  image_06765.jpg  image_06771.jpg\n",
            "image_06741.jpg  image_06755.jpg  image_06766.jpg\n",
            "image_06744.jpg  image_06762.jpg  image_06768.jpg\n"
          ],
          "name": "stdout"
        }
      ]
    },
    {
      "metadata": {
        "id": "2S9mEwxCS2nS",
        "colab_type": "code",
        "outputId": "879aeea7-6059-4260-81fe-3db57fdd65c6",
        "colab": {
          "base_uri": "https://localhost:8080/",
          "height": 268
        }
      },
      "cell_type": "code",
      "source": [
        "from matplotlib.pyplot import imshow \n",
        "from PIL import Image\n",
        "import numpy as np\n",
        "\n",
        "def process_image(image):\n",
        "  im = Image.open(image)\n",
        "  im.thumbnail((256,256))\n",
        "  pil_im = im\n",
        "  imshow(np.asarray(pil_im))\n",
        "  \n",
        "  \n",
        "process_image(\"/content/Images/jpg/image_06736.jpg\")\n",
        "  "
      ],
      "execution_count": 0,
      "outputs": [
        {
          "output_type": "display_data",
          "data": {
            "image/png": "[encoded data removed]",
            "text/plain": [
              "<matplotlib.figure.Figure at 0x7f3320029a90>"
            ]
          },
          "metadata": {
            "tags": [],
            "image/png": {
              "width": 366,
              "height": 251
            }
          }
        }
      ]
    },
    {
      "metadata": {
        "id": "iqRAKgACPRYy",
        "colab_type": "code",
        "colab": {}
      },
      "cell_type": "code",
      "source": [
        ""
      ],
      "execution_count": 0,
      "outputs": []
    },
    {
      "metadata": {
        "id": "K0Xz9dX3NgXy",
        "colab_type": "text"
      },
      "cell_type": "markdown",
      "source": [
        ""
      ]
    }
  ]
}